{
 "cells": [
  {
   "cell_type": "markdown",
   "id": "783b3fef",
   "metadata": {},
   "source": [
    "# Example Assignment"
   ]
  },
  {
   "cell_type": "code",
   "execution_count": 1,
   "id": "a66051ab",
   "metadata": {},
   "outputs": [],
   "source": [
    "# Some useful packages to import\n",
    "import numpy as np"
   ]
  },
  {
   "cell_type": "markdown",
   "id": "48f00968",
   "metadata": {},
   "source": [
    "## Problem 1\n",
    "\n",
    "Change <code>my_string</code> to say \"Hello, world!\""
   ]
  },
  {
   "cell_type": "code",
   "execution_count": null,
   "id": "dcde054f",
   "metadata": {},
   "outputs": [],
   "source": [
    "def problem_1():\n",
    "    my_string = \"Hello\"\n",
    "    return my_string"
   ]
  },
  {
   "cell_type": "markdown",
   "id": "9511f31f",
   "metadata": {},
   "source": [
    "## Problem 2\n",
    "\n",
    "Fill in <code>my_sum</code> to add b to a (a + b)"
   ]
  },
  {
   "cell_type": "code",
   "execution_count": 2,
   "id": "6dfac958",
   "metadata": {},
   "outputs": [],
   "source": [
    "def problem_2(a, b):\n",
    "    my_sum = ...\n",
    "    return my_sum"
   ]
  },
  {
   "cell_type": "markdown",
   "id": "51132a9b",
   "metadata": {},
   "source": [
    "## Problem 3\n",
    "\n",
    "Use a loop to sum all positive integers less than **a**"
   ]
  },
  {
   "cell_type": "code",
   "execution_count": 6,
   "id": "eb74a0ac",
   "metadata": {},
   "outputs": [],
   "source": [
    "def problem_3(a):\n",
    "    my_sum = 0\n",
    "    for i in range(a):\n",
    "        my_sum += ...\n",
    "    \n",
    "    return my_sum"
   ]
  }
 ],
 "metadata": {
  "kernelspec": {
   "display_name": "Python 3",
   "language": "python",
   "name": "python3"
  },
  "language_info": {
   "codemirror_mode": {
    "name": "ipython",
    "version": 3
   },
   "file_extension": ".py",
   "mimetype": "text/x-python",
   "name": "python",
   "nbconvert_exporter": "python",
   "pygments_lexer": "ipython3",
   "version": "3.8.8"
  }
 },
 "nbformat": 4,
 "nbformat_minor": 5
}
